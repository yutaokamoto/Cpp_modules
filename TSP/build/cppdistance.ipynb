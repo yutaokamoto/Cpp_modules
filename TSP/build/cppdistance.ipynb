{
 "cells": [
  {
   "cell_type": "code",
   "execution_count": 1,
   "metadata": {},
   "outputs": [],
   "source": [
    "import cppdistance"
   ]
  },
  {
   "cell_type": "code",
   "execution_count": 2,
   "metadata": {},
   "outputs": [
    {
     "name": "stdout",
     "output_type": "stream",
     "text": [
      "Help on module cppdistance:\n",
      "\n",
      "NAME\n",
      "    cppdistance - please input the coordinates of 2 points.\n",
      "\n",
      "FUNCTIONS\n",
      "    distance(...) method of builtins.PyCapsule instance\n",
      "        distance(arg0: float, arg1: float, arg2: float, arg3: float) -> float\n",
      "        \n",
      "        A function which returns distance between 2 points ((float x1,float y1), (float x2,float y2)).\n",
      "\n",
      "FILE\n",
      "    /Users/okamoto/Desktop/yutaokamoto_mac/cpp/20200416/build/cppdistance.cpython-37m-darwin.so\n",
      "\n",
      "\n"
     ]
    }
   ],
   "source": [
    "help(cppdistance)"
   ]
  },
  {
   "cell_type": "code",
   "execution_count": 3,
   "metadata": {},
   "outputs": [
    {
     "data": {
      "text/plain": [
       "1.4142135623730951"
      ]
     },
     "execution_count": 3,
     "metadata": {},
     "output_type": "execute_result"
    }
   ],
   "source": [
    "cppdistance.distance(0.0,0.0,1.0,1.0)"
   ]
  },
  {
   "cell_type": "code",
   "execution_count": null,
   "metadata": {},
   "outputs": [],
   "source": []
  }
 ],
 "metadata": {
  "kernelspec": {
   "display_name": "Python 3",
   "language": "python",
   "name": "python3"
  },
  "language_info": {
   "codemirror_mode": {
    "name": "ipython",
    "version": 3
   },
   "file_extension": ".py",
   "mimetype": "text/x-python",
   "name": "python",
   "nbconvert_exporter": "python",
   "pygments_lexer": "ipython3",
   "version": "3.7.7"
  }
 },
 "nbformat": 4,
 "nbformat_minor": 4
}
