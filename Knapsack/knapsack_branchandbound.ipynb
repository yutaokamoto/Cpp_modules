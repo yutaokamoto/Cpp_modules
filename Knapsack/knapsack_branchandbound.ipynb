{
 "cells": [
  {
   "cell_type": "code",
   "execution_count": 33,
   "metadata": {},
   "outputs": [],
   "source": [
    "import random\n",
    "random.seed(1)\n",
    "\"\"\"\n",
    "N = 20\n",
    "I = { i+1:(random.randint(1,10), random.randint(1,5)) for i in range(N) } # name: (value, weight)\n",
    "V = []\n",
    "W = []\n",
    "for x in I.values():\n",
    "    V.append(x[0])\n",
    "    W.append(x[1])\n",
    "K = N\n",
    "\"\"\"\n",
    "N = 3\n",
    "V = [45,48,35]\n",
    "W  = [5,8,3]\n",
    "K = 10\n",
    "#\"\"\""
   ]
  },
  {
   "cell_type": "markdown",
   "metadata": {},
   "source": [
    "重さあたりの価値が大きい順に入れるかそうか決めた方が走査するノードの数が少なくなる？"
   ]
  },
  {
   "cell_type": "code",
   "execution_count": 34,
   "metadata": {},
   "outputs": [],
   "source": [
    "def Simplex(Unassigned, Capacity):\n",
    "    x = 0\n",
    "    Value_per_Weight_order = sorted(Unassigned, key=lambda i: V[i]/W[i], reverse=True) #アイテムの並べ替え これはリスト\n",
    "    #print(Value_per_Weight_order)\n",
    "    \n",
    "    for i in Value_per_Weight_order:\n",
    "        if Capacity>0:\n",
    "            if W[i]<Capacity:\n",
    "                x += V[i]\n",
    "                Capacity -= W[i]\n",
    "            else:\n",
    "                x += V[i]*(Capacity/W[i])\n",
    "    return x"
   ]
  },
  {
   "cell_type": "code",
   "execution_count": 35,
   "metadata": {},
   "outputs": [],
   "source": [
    "def Relax(now, N, K):\n",
    "    x = 0\n",
    "    Capacity = K\n",
    "    #ノード名(10進数)を二進数で表したi桁目は，　アイテムiを入れるか(=1)入れないか(=0)を表している\n",
    "    Assigned = list(map(int, bin(now)[3:])) #[1,1,0,0,1]みたいな感じ\n",
    "    #print(Assigned)\n",
    "    Unassigned = list(range(len(Assigned), N))\n",
    "    #print(\"Unassigned\", Unassigned)\n",
    "    \n",
    "    for index,value in enumerate(Assigned):\n",
    "        if value==1:\n",
    "            x += V[index]\n",
    "            Capacity -= W[index]\n",
    "    #print(x)\n",
    "    #print(Capacity)\n",
    "    \n",
    "    if Capacity<0: #実行不可能\n",
    "        return False\n",
    "    \n",
    "    #答え\n",
    "    x += Simplex(Unassigned, Capacity)\n",
    "    \n",
    "    return x"
   ]
  },
  {
   "cell_type": "code",
   "execution_count": 36,
   "metadata": {},
   "outputs": [
    {
     "data": {
      "text/plain": [
       "35"
      ]
     },
     "execution_count": 36,
     "metadata": {},
     "output_type": "execute_result"
    }
   ],
   "source": [
    "Relax(4,N,K)"
   ]
  },
  {
   "cell_type": "code",
   "execution_count": 37,
   "metadata": {},
   "outputs": [],
   "source": [
    "now = 1\n",
    "stack = []\n",
    "stack.append(now)\n",
    "relax = 0\n",
    "solution=0\n",
    "opt_temp = 0\n",
    "while stack!=[]:\n",
    "    #print()\n",
    "    #print(\"opt_temp=\",opt_temp)\n",
    "     #スタックの一番最後のアイテムを取り出す\n",
    "    now = stack.pop()\n",
    "    #print(now)\n",
    "    \n",
    "    #緩和問題の解を求める\n",
    "    relax = Relax(now, N, K)\n",
    "    #print(relax)\n",
    "    \n",
    "    #そのノードにおける解が実行不可能\n",
    "    if not relax:\n",
    "        continue\n",
    "    \n",
    "    #緩和問題の解 > 今まで見つかった最適解\n",
    "    if relax > opt_temp:\n",
    "        \n",
    "        ##子がある(branching)\n",
    "        if now < 2**(N):\n",
    "            ###スタックに子を入れる\n",
    "            stack.append(2*now)\n",
    "            stack.append(2*now+1)\n",
    "    \n",
    "        ##子がない→葉になる 緩和解と実際の解が同じになる\n",
    "        else:\n",
    "            opt_temp = relax\n",
    "            solution=now\n",
    "            continue\n",
    "    \n",
    "    #緩和問題の解 < 今まで見つかった最適解 → 走査をやめる(pruning)\n",
    "    else:\n",
    "        continue"
   ]
  },
  {
   "cell_type": "code",
   "execution_count": 38,
   "metadata": {},
   "outputs": [
    {
     "data": {
      "text/plain": [
       "80"
      ]
     },
     "execution_count": 38,
     "metadata": {},
     "output_type": "execute_result"
    }
   ],
   "source": [
    "opt_temp"
   ]
  },
  {
   "cell_type": "code",
   "execution_count": 39,
   "metadata": {},
   "outputs": [
    {
     "data": {
      "text/plain": [
       "13"
      ]
     },
     "execution_count": 39,
     "metadata": {},
     "output_type": "execute_result"
    }
   ],
   "source": [
    "solution"
   ]
  },
  {
   "cell_type": "code",
   "execution_count": 40,
   "metadata": {},
   "outputs": [
    {
     "data": {
      "text/plain": [
       "'101'"
      ]
     },
     "execution_count": 40,
     "metadata": {},
     "output_type": "execute_result"
    }
   ],
   "source": [
    "bin(solution)[3:]"
   ]
  },
  {
   "cell_type": "code",
   "execution_count": 41,
   "metadata": {},
   "outputs": [
    {
     "data": {
      "text/plain": [
       "3"
      ]
     },
     "execution_count": 41,
     "metadata": {},
     "output_type": "execute_result"
    }
   ],
   "source": [
    "len(bin(solution)[3:])"
   ]
  },
  {
   "cell_type": "code",
   "execution_count": null,
   "metadata": {},
   "outputs": [],
   "source": []
  }
 ],
 "metadata": {
  "kernelspec": {
   "display_name": "Python 3",
   "language": "python",
   "name": "python3"
  },
  "language_info": {
   "codemirror_mode": {
    "name": "ipython",
    "version": 3
   },
   "file_extension": ".py",
   "mimetype": "text/x-python",
   "name": "python",
   "nbconvert_exporter": "python",
   "pygments_lexer": "ipython3",
   "version": "3.7.7"
  }
 },
 "nbformat": 4,
 "nbformat_minor": 4
}
