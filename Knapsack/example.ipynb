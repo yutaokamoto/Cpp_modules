{
 "cells": [
  {
   "cell_type": "markdown",
   "metadata": {},
   "source": [
    "# Knapsackモジュールのインポート"
   ]
  },
  {
   "cell_type": "code",
   "execution_count": 1,
   "metadata": {},
   "outputs": [],
   "source": [
    "import Knapsack"
   ]
  },
  {
   "cell_type": "markdown",
   "metadata": {},
   "source": [
    "# help()で、使えるメソッドの名前とその引数などを確認"
   ]
  },
  {
   "cell_type": "code",
   "execution_count": 2,
   "metadata": {},
   "outputs": [
    {
     "name": "stdout",
     "output_type": "stream",
     "text": [
      "Help on module Knapsack:\n",
      "\n",
      "NAME\n",
      "    Knapsack - solve Knapsack Problem.\n",
      "\n",
      "FUNCTIONS\n",
      "    branchandbound(...) method of builtins.PyCapsule instance\n",
      "        branchandbound(arg0: int, arg1: List[int], arg2: List[int], arg3: int) -> Tuple[List[int], int]\n",
      "        \n",
      "        A function which solve knapsack by branch and bound using depth-first search.\n",
      "        Arguments :\n",
      "        The number of items N\n",
      "        The list of item`s value V\n",
      "        The weight of item`s weight W\n",
      "        The capacity of the knapsack K\n",
      "    \n",
      "    dynamic(...) method of builtins.PyCapsule instance\n",
      "        dynamic(arg0: int, arg1: List[int], arg2: List[int], arg3: int) -> Tuple[List[int], int]\n",
      "        \n",
      "        A function which solve knapsack by dynamic programming.\n",
      "        Arguments :\n",
      "        The number of items N\n",
      "        The list of item`s value V\n",
      "        The weight of item`s weight W\n",
      "        The capacity of the knapsack K\n",
      "\n",
      "FILE\n",
      "    /Users/okamoto/Desktop/Opt/Knapsack/Knapsack.cpython-37m-darwin.so\n",
      "\n",
      "\n"
     ]
    }
   ],
   "source": [
    "help(Knapsack)"
   ]
  },
  {
   "cell_type": "markdown",
   "metadata": {},
   "source": [
    "# 問題例の作成\n",
    "ランダムな問題例を作成"
   ]
  },
  {
   "cell_type": "code",
   "execution_count": 3,
   "metadata": {},
   "outputs": [
    {
     "name": "stdout",
     "output_type": "stream",
     "text": [
      "詰めるアイテムの個数は、 29\n",
      "各アイテムの価値は、 [3, 2, 2, 8, 7, 2, 1, 7, 1, 5, 10, 6, 1, 9, 7, 7, 9, 8, 9, 6, 4, 5, 7, 2, 5, 6, 7, 4, 5]\n",
      "各アイテムの大きさは、 [5, 3, 4, 4, 2, 4, 4, 5, 4, 2, 1, 1, 1, 1, 2, 1, 2, 4, 2, 2, 4, 1, 5, 2, 1, 5, 5, 3, 5]\n"
     ]
    }
   ],
   "source": [
    "import random\n",
    "random.seed(1)\n",
    "N = 29 #29が限界？\n",
    "I = { i+1:(random.randint(1,10), random.randint(1,5)) for i in range(N) }\n",
    "V = []\n",
    "W = []\n",
    "for x in I.values():\n",
    "    V.append(x[0])\n",
    "    W.append(x[1])\n",
    "print(\"詰めるアイテムの個数は、\", N)\n",
    "print(\"各アイテムの価値は、\", V)\n",
    "print(\"各アイテムの大きさは、\", W)\n",
    "K = N"
   ]
  },
  {
   "cell_type": "markdown",
   "metadata": {},
   "source": [
    "# 求解"
   ]
  },
  {
   "cell_type": "code",
   "execution_count": 4,
   "metadata": {},
   "outputs": [
    {
     "name": "stdout",
     "output_type": "stream",
     "text": [
      "求解にかかった時間は 0.002701997756958008 ms\n"
     ]
    }
   ],
   "source": [
    "import time\n",
    "# 実行時間計測スタート\n",
    "start = time.time()\n",
    "\n",
    "# 求解を行う\n",
    "x, opt = Knapsack.branchandbound(N, V, W, K)\n",
    "\n",
    "# 実行時間計測ストップ\n",
    "elapsedtime = time.time() - start\n",
    "print(\"求解にかかった時間は\", elapsedtime, \"ms\")"
   ]
  },
  {
   "cell_type": "markdown",
   "metadata": {},
   "source": [
    "# 最適解を確認\n",
    "xとoptにそれぞれ最適解と最適値が入っている"
   ]
  },
  {
   "cell_type": "code",
   "execution_count": 5,
   "metadata": {},
   "outputs": [
    {
     "name": "stdout",
     "output_type": "stream",
     "text": [
      "最適解は、 [4, 5, 3, 5, 3, 6, 9, 1, 7]\n"
     ]
    }
   ],
   "source": [
    "print(\"最適解は\", x)"
   ]
  },
  {
   "cell_type": "code",
   "execution_count": 6,
   "metadata": {},
   "outputs": [
    {
     "name": "stdout",
     "output_type": "stream",
     "text": [
      "最適値は、 105\n"
     ]
    }
   ],
   "source": [
    "print(\"最適値は\", opt)"
   ]
  },
  {
   "cell_type": "code",
   "execution_count": null,
   "metadata": {},
   "outputs": [],
   "source": []
  }
 ],
 "metadata": {
  "kernelspec": {
   "display_name": "Python 3",
   "language": "python",
   "name": "python3"
  },
  "language_info": {
   "codemirror_mode": {
    "name": "ipython",
    "version": 3
   },
   "file_extension": ".py",
   "mimetype": "text/x-python",
   "name": "python",
   "nbconvert_exporter": "python",
   "pygments_lexer": "ipython3",
   "version": "3.7.7"
  }
 },
 "nbformat": 4,
 "nbformat_minor": 4
}
