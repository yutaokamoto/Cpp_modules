{
 "cells": [
  {
   "cell_type": "code",
   "execution_count": 16,
   "metadata": {},
   "outputs": [],
   "source": [
    "import cpp_knapsack"
   ]
  },
  {
   "cell_type": "code",
   "execution_count": 17,
   "metadata": {},
   "outputs": [
    {
     "name": "stdout",
     "output_type": "stream",
     "text": [
      "Help on module cpp_knapsack:\n",
      "\n",
      "NAME\n",
      "    cpp_knapsack - solve Knapsack Problem.\n",
      "\n",
      "FUNCTIONS\n",
      "    branchandbound(...) method of builtins.PyCapsule instance\n",
      "        branchandbound(arg0: int, arg1: List[int], arg2: List[int], arg3: int) -> Tuple[List[int], int]\n",
      "        \n",
      "        A function which solve knapsack by branch and bound using depth-first search.\n",
      "        Arguments :\n",
      "        The number of items N\n",
      "        The list of item`s value V\n",
      "        The weight of item`s weight W\n",
      "        The capacity of the knapsack K\n",
      "    \n",
      "    dynamic(...) method of builtins.PyCapsule instance\n",
      "        dynamic(arg0: int, arg1: List[int], arg2: List[int], arg3: int) -> Tuple[List[int], int]\n",
      "        \n",
      "        A function which solve knapsack by dynamic programming.\n",
      "        Arguments :\n",
      "        The number of items N\n",
      "        The list of item`s value V\n",
      "        The weight of item`s weight W\n",
      "        The capacity of the knapsack K\n",
      "\n",
      "FILE\n",
      "    /Users/okamoto/Desktop/yutaokamoto_mac/pybind/build/cpp_knapsack.cpython-37m-darwin.so\n",
      "\n",
      "\n"
     ]
    }
   ],
   "source": [
    "help(cpp_knapsack)"
   ]
  },
  {
   "cell_type": "code",
   "execution_count": 21,
   "metadata": {},
   "outputs": [
    {
     "name": "stdout",
     "output_type": "stream",
     "text": [
      "{1: (3, 5), 2: (2, 3), 3: (2, 4), 4: (8, 4), 5: (7, 2), 6: (2, 4), 7: (1, 4), 8: (7, 5), 9: (1, 4), 10: (5, 2), 11: (10, 1), 12: (6, 1), 13: (1, 1), 14: (9, 1), 15: (7, 2), 16: (7, 1), 17: (9, 2), 18: (8, 4), 19: (9, 2), 20: (6, 2), 21: (4, 4), 22: (5, 1), 23: (7, 5), 24: (2, 2), 25: (5, 1), 26: (6, 5), 27: (7, 5), 28: (4, 3), 29: (5, 5)}\n",
      "[3, 2, 2, 8, 7, 2, 1, 7, 1, 5, 10, 6, 1, 9, 7, 7, 9, 8, 9, 6, 4, 5, 7, 2, 5, 6, 7, 4, 5]\n",
      "[5, 3, 4, 4, 2, 4, 4, 5, 4, 2, 1, 1, 1, 1, 2, 1, 2, 4, 2, 2, 4, 1, 5, 2, 1, 5, 5, 3, 5]\n"
     ]
    },
    {
     "data": {
      "text/plain": [
       "'\\nN = 3\\nV = [45,48,35]\\nW  = [5,8,3]\\nK = 10\\n'"
      ]
     },
     "execution_count": 21,
     "metadata": {},
     "output_type": "execute_result"
    }
   ],
   "source": [
    "import random\n",
    "import time\n",
    "random.seed(1)\n",
    "#\"\"\"\n",
    "N = 29 #29が限界？\n",
    "I = { i+1:(random.randint(1,10), random.randint(1,5)) for i in range(N) } # name: (value, weight)\n",
    "V = []\n",
    "W = []\n",
    "for x in I.values():\n",
    "    V.append(x[0])\n",
    "    W.append(x[1])\n",
    "print(I)\n",
    "print(V)\n",
    "print(W)\n",
    "K = N\n",
    "\"\"\"\n",
    "N = 3\n",
    "V = [45,48,35]\n",
    "W  = [5,8,3]\n",
    "K = 10\n",
    "\"\"\""
   ]
  },
  {
   "cell_type": "code",
   "execution_count": 22,
   "metadata": {},
   "outputs": [
    {
     "name": "stdout",
     "output_type": "stream",
     "text": [
      "[(11, (10, 1)), (14, (9, 1)), (16, (7, 1)), (12, (6, 1)), (22, (5, 1)), (25, (5, 1)), (17, (9, 2)), (19, (9, 2)), (5, (7, 2)), (15, (7, 2)), (20, (6, 2)), (10, (5, 2)), (4, (8, 4)), (18, (8, 4)), (8, (7, 5)), (23, (7, 5)), (27, (7, 5)), (28, (4, 3)), (26, (6, 5)), (13, (1, 1)), (21, (4, 4)), (24, (2, 2)), (29, (5, 5)), (2, (2, 3)), (1, (3, 5)), (3, (2, 4)), (6, (2, 4)), (7, (1, 4)), (9, (1, 4))]\n",
      "[10, 9, 7, 6, 5, 5, 9, 9, 7, 7, 6, 5, 8, 8, 7, 7, 7, 4, 6, 1, 4, 2, 5, 2, 3, 2, 2, 1, 1]\n",
      "[1, 1, 1, 1, 1, 1, 2, 2, 2, 2, 2, 2, 4, 4, 5, 5, 5, 3, 5, 1, 4, 2, 5, 3, 5, 4, 4, 4, 4]\n"
     ]
    },
    {
     "data": {
      "text/plain": [
       "'V = list(I.keys())\\nprint(V)\\nW = list(I.values())\\nprint(W)'"
      ]
     },
     "execution_count": 22,
     "metadata": {},
     "output_type": "execute_result"
    }
   ],
   "source": [
    "I_list = sorted(I.items(), key=lambda x:x[1][0]/x[1][1], reverse=True)\n",
    "print(I_list)\n",
    "#I = {i[0]:i[1] for i in I_list}\n",
    "V = []\n",
    "W = []\n",
    "for x in I_list:\n",
    "    V.append(x[1][0])\n",
    "    W.append(x[1][1])\n",
    "print(V)\n",
    "print(W)\n",
    "\"\"\"V = list(I.keys())\n",
    "print(V)\n",
    "W = list(I.values())\n",
    "print(W)\"\"\""
   ]
  },
  {
   "cell_type": "code",
   "execution_count": 23,
   "metadata": {},
   "outputs": [
    {
     "name": "stdout",
     "output_type": "stream",
     "text": [
      "0.0005919933319091797\n"
     ]
    }
   ],
   "source": [
    "start = time.time()\n",
    "x, opt = cpp_knapsack.branchandbound(N, V, W, K)\n",
    "elapsedtime = time.time() - start\n",
    "print(elapsedtime)"
   ]
  },
  {
   "cell_type": "code",
   "execution_count": 20,
   "metadata": {},
   "outputs": [
    {
     "data": {
      "text/plain": [
       "[0,\n",
       " 0,\n",
       " 0,\n",
       " 1,\n",
       " 1,\n",
       " 0,\n",
       " 0,\n",
       " 0,\n",
       " 0,\n",
       " 1,\n",
       " 1,\n",
       " 1,\n",
       " 1,\n",
       " 1,\n",
       " 1,\n",
       " 1,\n",
       " 1,\n",
       " 1,\n",
       " 1,\n",
       " 1,\n",
       " 0,\n",
       " 1,\n",
       " 0,\n",
       " 1,\n",
       " 1,\n",
       " 0,\n",
       " 0,\n",
       " 0,\n",
       " 0]"
      ]
     },
     "execution_count": 20,
     "metadata": {},
     "output_type": "execute_result"
    }
   ],
   "source": [
    "x"
   ]
  },
  {
   "cell_type": "code",
   "execution_count": 14,
   "metadata": {},
   "outputs": [
    {
     "data": {
      "text/plain": [
       "104"
      ]
     },
     "execution_count": 14,
     "metadata": {},
     "output_type": "execute_result"
    }
   ],
   "source": [
    "opt"
   ]
  },
  {
   "cell_type": "code",
   "execution_count": null,
   "metadata": {},
   "outputs": [],
   "source": []
  }
 ],
 "metadata": {
  "kernelspec": {
   "display_name": "Python 3",
   "language": "python",
   "name": "python3"
  },
  "language_info": {
   "codemirror_mode": {
    "name": "ipython",
    "version": 3
   },
   "file_extension": ".py",
   "mimetype": "text/x-python",
   "name": "python",
   "nbconvert_exporter": "python",
   "pygments_lexer": "ipython3",
   "version": "3.7.7"
  }
 },
 "nbformat": 4,
 "nbformat_minor": 4
}
