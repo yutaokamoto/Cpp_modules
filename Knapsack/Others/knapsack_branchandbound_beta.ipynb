{
 "cells": [
  {
   "cell_type": "code",
   "execution_count": 117,
   "metadata": {},
   "outputs": [],
   "source": [
    "import random\n",
    "#N = 100\n",
    "N = 3\n",
    "#I = { i+1:(random.randint(1,10), random.randint(1,5)) for i in range(N) } # name: (value, weight)\n",
    "#I = {1:(5,4),2:(6,5),3:(3,2)} # name: (value, weight)\n",
    "V = [45,48,35]\n",
    "W  = [5,8,3]\n",
    "#K = N\n",
    "K = 10"
   ]
  },
  {
   "cell_type": "markdown",
   "metadata": {},
   "source": [
    "重さあたりの価値が大きい順に入れるかそうか決めた方が走査するノードの数が少なくなる？"
   ]
  },
  {
   "cell_type": "code",
   "execution_count": 118,
   "metadata": {},
   "outputs": [],
   "source": [
    "def simplex(Unassigned, Capacity):\n",
    "    x = 0\n",
    "    Value_per_Weight_order = sorted(Unassigned, key=lambda i: V[i]/W[i], reverse=True) #アイテムの並べ替え これはリスト\n",
    "    #print(Value_per_Weight_order)\n",
    "    \n",
    "    for i in Value_per_Weight_order:\n",
    "        if W[i]<Capacity:\n",
    "            x += V[i]\n",
    "            Capacity -= W[i]\n",
    "        else:\n",
    "            x += V[i]*(Capacity/W[i])\n",
    "    return x"
   ]
  },
  {
   "cell_type": "code",
   "execution_count": 119,
   "metadata": {},
   "outputs": [
    {
     "data": {
      "text/plain": [
       "92.0"
      ]
     },
     "execution_count": 119,
     "metadata": {},
     "output_type": "execute_result"
    }
   ],
   "source": [
    "simplex([0,1,2], 10)"
   ]
  },
  {
   "cell_type": "code",
   "execution_count": null,
   "metadata": {},
   "outputs": [],
   "source": [
    "def Relax(now, N, K):\n",
    "    x = 0\n",
    "    Capacity = K\n",
    "    Assigned = list(map(int, bin(now)[3:])) #11001みたいな感じ\n",
    "    print(Assigned)\n",
    "    Unassigned = list(range(len(Assigned), N))\n",
    "    #print(Unassigned)\n",
    "    \n",
    "    for i in Assigned:\n",
    "        if i==1:\n",
    "            x += V[i]\n",
    "            Capacity -= W[i]\n",
    "    print(x)\n",
    "    print(Capacity)\n",
    "    \n",
    "    if Capacity<0: #実行不可能\n",
    "        return False\n",
    "    \n",
    "    #答え\n",
    "    x += simplex(Unassigned, Capacity)\n",
    "    \n",
    "    return x"
   ]
  },
  {
   "cell_type": "code",
   "execution_count": 120,
   "metadata": {},
   "outputs": [],
   "source": [
    "def Relax(now, N, K):\n",
    "    x = 0\n",
    "    Capacity = K\n",
    "    Assigned = list(map(int, bin(now)[3:])) #11001みたいな感じ\n",
    "    print(Assigned)\n",
    "    Unassigned = list(range(len(Assigned), N))\n",
    "    #print(Unassigned)\n",
    "    \n",
    "    for index,value in enumerate(Assigned):\n",
    "        if value==1:\n",
    "            x += V[index]\n",
    "            Capacity -= W[index]\n",
    "    print(x)\n",
    "    print(Capacity)\n",
    "    \n",
    "    if Capacity<0: #実行不可能\n",
    "        return False\n",
    "    \n",
    "    #答え\n",
    "    x += simplex(Unassigned, Capacity)\n",
    "    \n",
    "    return x"
   ]
  },
  {
   "cell_type": "code",
   "execution_count": 121,
   "metadata": {},
   "outputs": [
    {
     "name": "stdout",
     "output_type": "stream",
     "text": [
      "[1, 0]\n",
      "45\n",
      "5\n"
     ]
    },
    {
     "data": {
      "text/plain": [
       "80"
      ]
     },
     "execution_count": 121,
     "metadata": {},
     "output_type": "execute_result"
    }
   ],
   "source": [
    "Relaxx(6, N, K)"
   ]
  },
  {
   "cell_type": "code",
   "execution_count": 122,
   "metadata": {},
   "outputs": [
    {
     "name": "stdout",
     "output_type": "stream",
     "text": [
      "\n",
      "opt_temp= 0\n",
      "1\n",
      "[]\n",
      "0\n",
      "10\n",
      "92.0\n",
      "\n",
      "opt_temp= 0\n",
      "3\n",
      "[1]\n",
      "45\n",
      "5\n",
      "92.0\n",
      "\n",
      "opt_temp= 0\n",
      "7\n",
      "[1, 1]\n",
      "93\n",
      "-3\n",
      "False\n",
      "\n",
      "opt_temp= 0\n",
      "6\n",
      "[1, 0]\n",
      "45\n",
      "5\n",
      "80\n",
      "\n",
      "opt_temp= 0\n",
      "13\n",
      "[1, 0, 1]\n",
      "80\n",
      "2\n",
      "80\n",
      "\n",
      "opt_temp= 80\n",
      "12\n",
      "[1, 0, 0]\n",
      "45\n",
      "5\n",
      "45\n",
      "\n",
      "opt_temp= 80\n",
      "2\n",
      "[0]\n",
      "0\n",
      "10\n",
      "77.0\n"
     ]
    }
   ],
   "source": [
    "now = 1\n",
    "stack = []\n",
    "stack.append(now)\n",
    "opt_temp = 0\n",
    "while stack!=[]:\n",
    "    print()\n",
    "    print(\"opt_temp=\",opt_temp)\n",
    "     #スタックの一番上のアイテムを取り出す\n",
    "    now = stack.pop()\n",
    "    print(now)\n",
    "    \n",
    "    #緩和問題解く\n",
    "    relax = Relax(now, N, K)\n",
    "    print(relax)\n",
    "    \n",
    "    #そのノードにおける解が実行不可能\n",
    "    if not relax:\n",
    "        continue\n",
    "    \n",
    "    #緩和問題の解 > 今まで見つかった最適解 ここがダメ\n",
    "    if relax > opt_temp:\n",
    "        \n",
    "        ##子がある\n",
    "        if now < 2**(N):\n",
    "            ###スタックに子を入れる\n",
    "            stack.append(2*now)\n",
    "            stack.append(2*now+1)\n",
    "    \n",
    "        ##子がない→葉になる 緩和解と実際の解が同じになる\n",
    "        else:\n",
    "            opt_temp = relax\n",
    "            continue\n",
    "    \n",
    "    #緩和問題の解 < 今まで見つかった最適解→走査をやめる(prune)\n",
    "    else:\n",
    "        continue"
   ]
  },
  {
   "cell_type": "code",
   "execution_count": 123,
   "metadata": {},
   "outputs": [
    {
     "data": {
      "text/plain": [
       "80"
      ]
     },
     "execution_count": 123,
     "metadata": {},
     "output_type": "execute_result"
    }
   ],
   "source": [
    "opt_temp"
   ]
  },
  {
   "cell_type": "code",
   "execution_count": null,
   "metadata": {},
   "outputs": [],
   "source": []
  }
 ],
 "metadata": {
  "kernelspec": {
   "display_name": "Python 3",
   "language": "python",
   "name": "python3"
  },
  "language_info": {
   "codemirror_mode": {
    "name": "ipython",
    "version": 3
   },
   "file_extension": ".py",
   "mimetype": "text/x-python",
   "name": "python",
   "nbconvert_exporter": "python",
   "pygments_lexer": "ipython3",
   "version": "3.7.7"
  }
 },
 "nbformat": 4,
 "nbformat_minor": 4
}
