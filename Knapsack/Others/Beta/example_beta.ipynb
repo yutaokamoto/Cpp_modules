{
 "cells": [
  {
   "cell_type": "code",
   "execution_count": 1,
   "metadata": {},
   "outputs": [],
   "source": [
    "import cpp_knapsack"
   ]
  },
  {
   "cell_type": "code",
   "execution_count": 2,
   "metadata": {},
   "outputs": [
    {
     "name": "stdout",
     "output_type": "stream",
     "text": [
      "Help on module cpp_knapsack:\n",
      "\n",
      "NAME\n",
      "    cpp_knapsack - solve Knapsack Problem.\n",
      "\n",
      "FUNCTIONS\n",
      "    branchandbound(...) method of builtins.PyCapsule instance\n",
      "        branchandbound(arg0: int, arg1: List[int], arg2: List[int], arg3: int) -> Tuple[List[int], int]\n",
      "        \n",
      "        A function which solve knapsack by branch and bound using depth-first search.\n",
      "        Arguments :\n",
      "        The number of items N\n",
      "        The list of item`s value V\n",
      "        The weight of item`s weight W\n",
      "        The capacity of the knapsack K\n",
      "    \n",
      "    dynamic(...) method of builtins.PyCapsule instance\n",
      "        dynamic(arg0: int, arg1: List[int], arg2: List[int], arg3: int) -> Tuple[List[int], int]\n",
      "        \n",
      "        A function which solve knapsack by dynamic programming.\n",
      "        Arguments :\n",
      "        The number of items N\n",
      "        The list of item`s value V\n",
      "        The weight of item`s weight W\n",
      "        The capacity of the knapsack K\n",
      "\n",
      "FILE\n",
      "    /Users/okamoto/Desktop/yutaokamoto_mac/cpp_modules/Knapsack/cpp_knapsack.cpython-37m-darwin.so\n",
      "\n",
      "\n"
     ]
    }
   ],
   "source": [
    "help(cpp_knapsack)"
   ]
  },
  {
   "cell_type": "code",
   "execution_count": null,
   "metadata": {},
   "outputs": [],
   "source": []
  }
 ],
 "metadata": {
  "kernelspec": {
   "display_name": "Python 3",
   "language": "python",
   "name": "python3"
  },
  "language_info": {
   "codemirror_mode": {
    "name": "ipython",
    "version": 3
   },
   "file_extension": ".py",
   "mimetype": "text/x-python",
   "name": "python",
   "nbconvert_exporter": "python",
   "pygments_lexer": "ipython3",
   "version": "3.7.7"
  }
 },
 "nbformat": 4,
 "nbformat_minor": 4
}
