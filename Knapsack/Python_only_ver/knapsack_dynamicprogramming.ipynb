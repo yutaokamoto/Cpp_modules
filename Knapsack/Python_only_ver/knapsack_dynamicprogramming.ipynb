{
 "cells": [
  {
   "cell_type": "code",
   "execution_count": 27,
   "metadata": {},
   "outputs": [],
   "source": [
    "import random\n",
    "random.seed(1)\n",
    "\"\"\"\n",
    "N = 20\n",
    "W = { i+1:(random.randint(1,10), random.randint(1,5)) for i in range(N) } # name: (value, weight)\n",
    "K = N\n",
    "\"\"\"\n",
    "N = 3\n",
    "W = {1:(5,4),2:(6,5),3:(3,2)}\n",
    "K = 9\n",
    "#\"\"\""
   ]
  },
  {
   "cell_type": "code",
   "execution_count": 28,
   "metadata": {},
   "outputs": [
    {
     "data": {
      "text/plain": [
       "{1: (5, 4), 2: (6, 5), 3: (3, 2)}"
      ]
     },
     "execution_count": 28,
     "metadata": {},
     "output_type": "execute_result"
    }
   ],
   "source": [
    "W # name: (value, weight)"
   ]
  },
  {
   "cell_type": "code",
   "execution_count": 29,
   "metadata": {},
   "outputs": [
    {
     "data": {
      "text/plain": [
       "10"
      ]
     },
     "execution_count": 29,
     "metadata": {},
     "output_type": "execute_result"
    }
   ],
   "source": [
    "matrix = [[0 for i in range(N+1)] for j in range(K+1)]\n",
    "matrix\n",
    "len(matrix)"
   ]
  },
  {
   "cell_type": "code",
   "execution_count": 30,
   "metadata": {},
   "outputs": [
    {
     "data": {
      "text/plain": [
       "11"
      ]
     },
     "execution_count": 30,
     "metadata": {},
     "output_type": "execute_result"
    }
   ],
   "source": [
    "matrix = [[0 for i in range(N+1)] for j in range(K+1)] # raw : K, colmun : item\n",
    "\n",
    "for n in range(N+1):\n",
    "    for k in range(K+1):\n",
    "        if n==0:\n",
    "            continue\n",
    "        if W[n][1] <= k:\n",
    "            matrix[k][n] = max(matrix[k][n-1],matrix[k-W[n][1]][n-1]+W[n][0])\n",
    "        else:\n",
    "            matrix[k][n] = matrix[k][n-1]\n",
    "\n",
    "matrix[K][N]"
   ]
  },
  {
   "cell_type": "code",
   "execution_count": 31,
   "metadata": {},
   "outputs": [
    {
     "data": {
      "text/plain": [
       "11"
      ]
     },
     "execution_count": 31,
     "metadata": {},
     "output_type": "execute_result"
    }
   ],
   "source": [
    "matrix = [[0 for i in range(N+1)] for j in range(K+1)] # raw : K, colmun : item\n",
    "\n",
    "for n in range(1,N+1):\n",
    "    for k in range(K+1):\n",
    "        if W[n][1] <= k:\n",
    "            matrix[k][n] = max(matrix[k][n-1],matrix[k-W[n][1]][n-1]+W[n][0])\n",
    "        else:\n",
    "            matrix[k][n] = matrix[k][n-1]\n",
    "\n",
    "matrix[K][N]"
   ]
  },
  {
   "cell_type": "code",
   "execution_count": 33,
   "metadata": {
    "scrolled": true
   },
   "outputs": [
    {
     "data": {
      "text/plain": [
       "[2, 1]"
      ]
     },
     "execution_count": 33,
     "metadata": {},
     "output_type": "execute_result"
    }
   ],
   "source": [
    "now_k=K\n",
    "now_n=N\n",
    "ans=[]\n",
    "for i in range(N):\n",
    "    if matrix[now_k][now_n] == matrix[now_k][now_n-1]:#もし左のと一緒だったら→左に行く\n",
    "        now_n -= 1\n",
    "    else:#左の値と違ったら→そのアイテムを答えに追加、　　一個左に行く、　　入れたアイテムの重さ分だけ上に行く\n",
    "        ans.append(now_n)\n",
    "        now_k -= W[now_n][1]\n",
    "        now_n -= 1\n",
    "ans"
   ]
  },
  {
   "cell_type": "code",
   "execution_count": null,
   "metadata": {},
   "outputs": [],
   "source": []
  }
 ],
 "metadata": {
  "kernelspec": {
   "display_name": "Python 3",
   "language": "python",
   "name": "python3"
  },
  "language_info": {
   "codemirror_mode": {
    "name": "ipython",
    "version": 3
   },
   "file_extension": ".py",
   "mimetype": "text/x-python",
   "name": "python",
   "nbconvert_exporter": "python",
   "pygments_lexer": "ipython3",
   "version": "3.7.7"
  }
 },
 "nbformat": 4,
 "nbformat_minor": 4
}
